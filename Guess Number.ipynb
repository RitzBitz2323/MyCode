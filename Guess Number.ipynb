{
 "cells": [
  {
   "cell_type": "code",
   "execution_count": 2,
   "metadata": {},
   "outputs": [
    {
     "name": "stdout",
     "output_type": "stream",
     "text": [
      "Welcome to Guess That Number!!!\n",
      "First let's start out by generating a number from 1 - 10.\n",
      "Generating .\n",
      "Generating . .\n",
      "Generating . . .\n",
      "Generated RaNdOm NuMbEr!\n",
      "Now Let's Start!\n",
      "Input your first guess1\n",
      "Wrong! Try again!\n",
      "Input another guess!2\n",
      "Wrong! Try again!\n",
      "Input another guess!3\n",
      "Wrong! Try again!\n",
      "Input another guess!4\n",
      "Wrong! Try again!\n",
      "Input another guess!5\n",
      "Wrong! Try again!\n",
      "Input another guess!6\n",
      "Success! You have guessed the number 6 and it matched 6\n"
     ]
    }
   ],
   "source": [
    "from random import randint\n",
    "import time\n",
    "def random():\n",
    "    num = randint(1,10)\n",
    "    return num\n",
    "\n",
    "print(\"Welcome to Guess That Number!!!\")\n",
    "time.sleep(2)\n",
    "print(\"First let's start out by generating a number from 1 - 10.\")\n",
    "time.sleep(1)\n",
    "num = random()\n",
    "print(\"Generating .\")\n",
    "time.sleep(0.5)\n",
    "print(\"Generating . .\")\n",
    "time.sleep(0.5)\n",
    "print(\"Generating . . .\")\n",
    "time.sleep(0.5)\n",
    "print(\"Generated RaNdOm NuMbEr!\")\n",
    "time.sleep(1)\n",
    "print(\"Now Let's Start!\")\n",
    "guess = int(input(\"Input your first guess\"))\n",
    "while(guess != num):\n",
    "    print(\"Wrong! Try again!\")\n",
    "    guess = int(input(\"Input another guess!\"))\n",
    "\n",
    "print(\"Success! You have guessed the number \" + str(guess) + \" and it matched \" + str(num))\n",
    "\n",
    "    \n",
    "    \n",
    "    \n",
    "    \n"
   ]
  },
  {
   "cell_type": "code",
   "execution_count": null,
   "metadata": {},
   "outputs": [],
   "source": []
  }
 ],
 "metadata": {
  "kernelspec": {
   "display_name": "Python 3",
   "language": "python",
   "name": "python3"
  },
  "language_info": {
   "codemirror_mode": {
    "name": "ipython",
    "version": 3
   },
   "file_extension": ".py",
   "mimetype": "text/x-python",
   "name": "python",
   "nbconvert_exporter": "python",
   "pygments_lexer": "ipython3",
   "version": "3.7.4"
  }
 },
 "nbformat": 4,
 "nbformat_minor": 2
}
