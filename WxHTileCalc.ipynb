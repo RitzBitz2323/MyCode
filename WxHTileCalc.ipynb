{
 "cells": [
  {
   "cell_type": "code",
   "execution_count": 11,
   "metadata": {},
   "outputs": [],
   "source": [
    "def whTile(w,h,tw,th,cpt):\n",
    "    areaOfTile = w * h\n",
    "    areaOfFloor = tw * th\n",
    "    costPerTile = cpt\n",
    "    costTotal = 0\n",
    "    tileTotal = areaOfFloor / areaOfTile\n",
    "    costTotal = costPerTile * tileTotal\n",
    "    return costTotal\n",
    "    \n"
   ]
  },
  {
   "cell_type": "code",
   "execution_count": null,
   "metadata": {},
   "outputs": [],
   "source": []
  },
  {
   "cell_type": "code",
   "execution_count": 14,
   "metadata": {},
   "outputs": [
    {
     "name": "stdout",
     "output_type": "stream",
     "text": [
      "Total Tile Price Calculator\n",
      "Input the width of a singular tile.1\n",
      "Input the height of a singular tile.1\n",
      "Input the total width of the floor.3\n",
      "Input the total height of the floor.3\n",
      "Input the cost of each singular tile.10\n",
      "Calculating .\n",
      "Calculating . .\n",
      "Calculating . . .\n",
      "Calculating . . . .\n",
      "Calculating . . . . .\n",
      "Done!\n",
      "The total cost of the floor plan with the given measurements and costs is 90.0\n"
     ]
    }
   ],
   "source": [
    "import time\n",
    "print(\"Total Tile Price Calculator\")\n",
    "w = int(input(\"Input the width of a singular tile.\"))\n",
    "h = int(input(\"Input the height of a singular tile.\"))\n",
    "tw = int(input(\"Input the total width of the floor.\"))\n",
    "th = int(input(\"Input the total height of the floor.\"))\n",
    "cpt = int(input(\"Input the cost of each singular tile.\"))\n",
    "ct = whTile(w,h,tw,th,cpt)\n",
    "ct = str(ct)\n",
    "\n",
    "print(\"Calculating .\")\n",
    "time.sleep(1)\n",
    "print(\"Calculating . .\")\n",
    "time.sleep(1)\n",
    "print(\"Calculating . . .\")\n",
    "time.sleep(1)\n",
    "print(\"Done!\")\n",
    "time.sleep(.75)\n",
    "print(\"The total cost of the floor plan with the given measurements and costs is \" + ct)\n"
   ]
  },
  {
   "cell_type": "code",
   "execution_count": null,
   "metadata": {},
   "outputs": [],
   "source": []
  }
 ],
 "metadata": {
  "kernelspec": {
   "display_name": "Python 3",
   "language": "python",
   "name": "python3"
  },
  "language_info": {
   "codemirror_mode": {
    "name": "ipython",
    "version": 3
   },
   "file_extension": ".py",
   "mimetype": "text/x-python",
   "name": "python",
   "nbconvert_exporter": "python",
   "pygments_lexer": "ipython3",
   "version": "3.7.4"
  }
 },
 "nbformat": 4,
 "nbformat_minor": 2
}
