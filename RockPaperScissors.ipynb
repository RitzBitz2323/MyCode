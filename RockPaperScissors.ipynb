{
 "cells": [
  {
   "cell_type": "code",
   "execution_count": null,
   "metadata": {},
   "outputs": [],
   "source": []
  },
  {
   "cell_type": "code",
   "execution_count": 1,
   "metadata": {},
   "outputs": [
    {
     "name": "stdout",
     "output_type": "stream",
     "text": [
      "Rock Paper Scissors Game\n",
      "Press 1 to start and 2 to stop1\n",
      "Let's play!\n",
      "Now 'rock' 'paper' or 'scissors' ?rock\n",
      "You lost! Your rock was beat by paper\n",
      "Press 1 to play again and 2 to exit2\n",
      "Goodbye\n"
     ]
    }
   ],
   "source": [
    "from random import randint\n",
    "def bot():\n",
    "    random = randint(1,3)\n",
    "    return random\n",
    "    \n",
    "print(\"Rock Paper Scissors Game\")\n",
    "userChoice = 0\n",
    "botAction = \"\"\n",
    "choice = int(input(\"Press 1 to start and 2 to stop\"))\n",
    "while(choice == 1):\n",
    "    print(\"Let's play!\")\n",
    "    userAction = input(\"Now 'rock' 'paper' or 'scissors' ?\")\n",
    "    if(userAction == \"rock\"):\n",
    "        userChoice = 1\n",
    "    elif(userAction == \"paper\"):\n",
    "        userChoice = 2\n",
    "    elif(userAction == \"scissors\"):\n",
    "        userChoice = 3\n",
    "    else:\n",
    "        print(\"ERROR!\")\n",
    "    \n",
    "    botChoice = bot()\n",
    "    if(botChoice == 1):\n",
    "        botAction = \"rock\"\n",
    "    elif(botChoice == 2):\n",
    "        botAction = \"paper\"\n",
    "    elif(botChoice == 3):\n",
    "        botAction = \"scissors\"\n",
    "    else:\n",
    "        print(\"ERROR!\")\n",
    "        \n",
    "    if(userChoice == botChoice):\n",
    "        print(\"Tie!\")\n",
    "        choice = int(input(\"Press 1 to go again and 2 to exit\"))\n",
    "    \n",
    "    else:\n",
    "        if(userChoice == 1 and botChoice == 3):\n",
    "            print(\"You win! Your \" + userAction + \" beat \" + botAction)\n",
    "            choice = int(input(\"Press 1 to play again and 2 to exit\"))\n",
    "         \n",
    "        elif(userChoice == 2 and botChoice == 1):\n",
    "            print(\"You win! Your \" + userAction + \" beat \" + botAction)\n",
    "            choice = int(input(\"Press 1 to play again and 2 to exit\"))\n",
    "         \n",
    "        elif(userChoice == 3 and botChoice == 2):\n",
    "            print(\"You win! Your \" + userAction + \" beat \" + botAction)\n",
    "            choice = int(input(\"Press 1 to play again and 2 to exit\"))\n",
    "        else:\n",
    "            print(\"You lost! Your \" + userAction + \" was beat by \" + botAction)\n",
    "            choice = int(input(\"Press 1 to play again and 2 to exit\"))\n",
    "         \n",
    "        \n",
    "   \n",
    "        \n",
    "    \n",
    "\n",
    "print(\"Goodbye\")\n",
    "\n",
    "    "
   ]
  },
  {
   "cell_type": "code",
   "execution_count": null,
   "metadata": {},
   "outputs": [],
   "source": []
  }
 ],
 "metadata": {
  "kernelspec": {
   "display_name": "Python 3",
   "language": "python",
   "name": "python3"
  },
  "language_info": {
   "codemirror_mode": {
    "name": "ipython",
    "version": 3
   },
   "file_extension": ".py",
   "mimetype": "text/x-python",
   "name": "python",
   "nbconvert_exporter": "python",
   "pygments_lexer": "ipython3",
   "version": "3.7.4"
  }
 },
 "nbformat": 4,
 "nbformat_minor": 2
}
