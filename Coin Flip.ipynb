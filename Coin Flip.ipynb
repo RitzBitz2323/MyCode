{
 "cells": [
  {
   "cell_type": "code",
   "execution_count": 3,
   "metadata": {},
   "outputs": [
    {
     "name": "stdout",
     "output_type": "stream",
     "text": [
      "Coin Flipper\n",
      "Do you want to flip a coin? y or ny\n",
      "Flipping .\n",
      "Flipping . .\n",
      "Flipping . . .\n",
      "TAILS\n",
      "Do you want to keep flipping a coin? y or ny\n",
      "Flipping .\n",
      "Flipping . .\n",
      "Flipping . . .\n",
      "TAILS\n",
      "Do you want to keep flipping a coin? y or ny\n",
      "Flipping .\n",
      "Flipping . .\n",
      "Flipping . . .\n",
      "HEADS\n",
      "Do you want to keep flipping a coin? y or nn\n",
      "Bye!\n",
      "Total times flipped were 3 and out of those, 1 were heads and 2 were tails.\n"
     ]
    }
   ],
   "source": [
    "print(\"Coin Flipper\")\n",
    "tH = 0\n",
    "tT = 0\n",
    "tF = 0\n",
    "y = 0\n",
    "from random import randint\n",
    "import time\n",
    "x = input(\"Do you want to flip a coin? y or n\")\n",
    "if(x == \"y\"):\n",
    "    cf = True\n",
    "elif(x == \"n\"):\n",
    "    cf = False\n",
    "else:\n",
    "    print(\"ERROR\")\n",
    "    cf = False\n",
    "while(cf == True):\n",
    "    y = randint(0,10)\n",
    "    if(y <= 4):\n",
    "        \n",
    "        print(\"Flipping .\")\n",
    "        time.sleep(.5)\n",
    "        print(\"Flipping . .\")\n",
    "        time.sleep(.5)\n",
    "        print(\"Flipping . . .\")\n",
    "        time.sleep(.5)\n",
    "        \n",
    "        print(\"HEADS\")\n",
    "        tH = tH + 1\n",
    "        tF = tF + 1\n",
    "    elif(y > 4):\n",
    "        \n",
    "        print(\"Flipping .\")\n",
    "        time.sleep(.5)\n",
    "        print(\"Flipping . .\")\n",
    "        time.sleep(.5)\n",
    "        print(\"Flipping . . .\")\n",
    "        time.sleep(.5)\n",
    "        \n",
    "        print(\"TAILS\")\n",
    "        tT = tT + 1\n",
    "        tF = tF + 1\n",
    "        \n",
    "    x = input(\"Do you want to keep flipping a coin? y or n\")\n",
    "    if(x == \"y\"):\n",
    "        cf = True\n",
    "    elif(x == \"n\"):\n",
    "        print(\"Bye!\")\n",
    "        cf = False\n",
    "    else:\n",
    "        print(\"ERROR\")\n",
    "        cf = False\n",
    "\n",
    "print(\"Total times flipped were \" + str(tF) + \" and out of those, \" + str(tH) + \" were heads and \" + str(tT) + \" were tails.\")\n",
    "    \n",
    "    "
   ]
  },
  {
   "cell_type": "code",
   "execution_count": null,
   "metadata": {},
   "outputs": [],
   "source": []
  }
 ],
 "metadata": {
  "kernelspec": {
   "display_name": "Python 3",
   "language": "python",
   "name": "python3"
  },
  "language_info": {
   "codemirror_mode": {
    "name": "ipython",
    "version": 3
   },
   "file_extension": ".py",
   "mimetype": "text/x-python",
   "name": "python",
   "nbconvert_exporter": "python",
   "pygments_lexer": "ipython3",
   "version": "3.7.4"
  }
 },
 "nbformat": 4,
 "nbformat_minor": 2
}
